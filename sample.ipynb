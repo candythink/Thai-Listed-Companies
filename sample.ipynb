import pandas as pd

# URL to the raw JSON file on GitHub
json_file_path = 'https://raw.githubusercontent.com/candythink/Thai-Listed-Companies/main/ThaiListedCompanies.json'

# Read the JSON Lines file into a pandas DataFrame
df = pd.read_json(json_file_path, lines=True)

# Display the DataFrame
df
